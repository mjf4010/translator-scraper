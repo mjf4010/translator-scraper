{
 "metadata": {
  "language_info": {
   "codemirror_mode": {
    "name": "ipython",
    "version": 3
   },
   "file_extension": ".py",
   "mimetype": "text/x-python",
   "name": "python",
   "nbconvert_exporter": "python",
   "pygments_lexer": "ipython3",
   "version": "3.8.3-final"
  },
  "orig_nbformat": 2,
  "kernelspec": {
   "name": "python3",
   "display_name": "Python 3.8.3 64-bit (conda)",
   "metadata": {
    "interpreter": {
     "hash": "6a7100f77c390aa589c4b628fe3b4bf647e9c70ffa35f3e76563f421da5f96cf"
    }
   }
  }
 },
 "nbformat": 4,
 "nbformat_minor": 2,
 "cells": [
  {
   "source": [
    "## Papago Scrape"
   ],
   "cell_type": "markdown",
   "metadata": {}
  },
  {
   "cell_type": "code",
   "execution_count": 6,
   "metadata": {},
   "outputs": [],
   "source": [
    "# Import necessary modules\n",
    "import time\n",
    "import pandas as pd\n",
    "from gtts import gTTS\n",
    "from playsound import playsound\n",
    "from datetime import datetime\n",
    "from selenium import webdriver\n",
    "from selenium.webdriver.common.keys import Keys\n",
    "from selenium.webdriver.common.by import By\n",
    "from selenium.webdriver.support.ui import WebDriverWait\n",
    "from selenium.webdriver.support import expected_conditions as EC\n",
    "# Define start time\n",
    "startTime = time.time()\n",
    "# DEFINE FUNCTIONS\n",
    "def convert(seconds): \n",
    "    seconds = seconds % (24 * 3600) \n",
    "    hour = seconds // 3600\n",
    "    seconds %= 3600\n",
    "    minutes = seconds // 60\n",
    "    seconds %= 60\n",
    "    return \"%dh %02dm %02ds\" % (hour, minutes, seconds)\n",
    "\n",
    "def convertTTS(seconds): \n",
    "    seconds = seconds % (24 * 3600) \n",
    "    hour = seconds // 3600\n",
    "    seconds %= 3600\n",
    "    minutes = seconds // 60\n",
    "    seconds %= 60\n",
    "    return \"%d hours %02d minutes %02d seconds\" % (hour, minutes, seconds)\n",
    "# Define a project name\n",
    "project = '한국어 번역 시험'\n",
    "# Define the URL to be opened\n",
    "url = 'https://papago.naver.com/'\n",
    "# Create a DataFrame of the sentences to be translated\n",
    "source = pd.read_excel('원천.xlsx', header = None)\n",
    "# Define the driver for Selenium to use\n",
    "driver = webdriver.Chrome('chromedriver.exe')\n",
    "# Open the specfied URL\n",
    "driver.get(url)\n",
    "# Sleep to avoid errors\n",
    "time.sleep(2)\n",
    "# Find the Text Field and type the sentences\n",
    "textField = driver.find_element_by_xpath('//*[@id=\"txtSource\"]')\n",
    "test = source.loc[0:0].to_string(index = False, columns = None, header = False)\n",
    "for row in source[0]:\n",
    "    textField.send_keys(row)\n",
    "    textField.send_keys(Keys.RETURN)\n",
    "# Sleep to avoid errors\n",
    "time.sleep(3)\n",
    "# Store translated Text as a string\n",
    "translatedText = driver.find_element_by_xpath('//*[@id=\"txtTarget\"]')\n",
    "output = translatedText.text\n",
    "# Sleep to avoid errors\n",
    "time.sleep(2)\n",
    "# Close the browser window\n",
    "driver.quit()\n",
    "# Create a list from the string output\n",
    "sentences = output.split(\"\\n\")\n",
    "# Create the DataFrame\n",
    "cols = ['한국어', 'English']\n",
    "df = pd.DataFrame(columns = cols)\n",
    "df['English'] = sentences\n",
    "df['한국어'] = source[0]\n",
    "# Export DataFrame as an XLSX to Google Drive\\Work\\Translation folder\n",
    "now = datetime.now().strftime(\"%Y-%m-%d_%H.%M.%S\")\n",
    "df.to_excel('한국어\\{}.xlsx'.format(project), index=False)\n",
    "os.startfile('한국어\\{}.xlsx'.format(project))\n",
    "# Play some audio to let alert the user to the scripts completion\n",
    "tts = gTTS(text = \"I have finished translating the sentences in {}. Please fix my mistakes, master.\".format(convertTTS(time.time() - startTime)), lang = \"en\")\n",
    "tts.save(\"tts.mp3\")\n",
    "playsound(\"tts.mp3\")\n",
    "os.remove(\"tts.mp3\")"
   ]
  },
  {
   "cell_type": "code",
   "execution_count": null,
   "metadata": {},
   "outputs": [],
   "source": []
  }
 ]
}