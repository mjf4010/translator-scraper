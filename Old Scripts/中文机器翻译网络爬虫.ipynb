{
 "metadata": {
  "language_info": {
   "codemirror_mode": {
    "name": "ipython",
    "version": 3
   },
   "file_extension": ".py",
   "mimetype": "text/x-python",
   "name": "python",
   "nbconvert_exporter": "python",
   "pygments_lexer": "ipython3",
   "version": "3.8.3-final"
  },
  "orig_nbformat": 2,
  "kernelspec": {
   "name": "python3",
   "display_name": "Python 3.8.3 64-bit (conda)",
   "metadata": {
    "interpreter": {
     "hash": "6a7100f77c390aa589c4b628fe3b4bf647e9c70ffa35f3e76563f421da5f96cf"
    }
   }
  }
 },
 "nbformat": 4,
 "nbformat_minor": 2,
 "cells": [
  {
   "source": [
    "## DeepL Scrape"
   ],
   "cell_type": "markdown",
   "metadata": {}
  },
  {
   "cell_type": "code",
   "execution_count": 1,
   "metadata": {},
   "outputs": [],
   "source": [
    "# Import necessary modules\n",
    "import time\n",
    "import pandas as pd\n",
    "from gtts import gTTS\n",
    "from playsound import playsound\n",
    "from datetime import datetime\n",
    "from selenium import webdriver\n",
    "from selenium.webdriver.common.keys import Keys\n",
    "from selenium.webdriver.common.by import By\n",
    "from selenium.webdriver.support.ui import WebDriverWait\n",
    "from selenium.webdriver.support import expected_conditions as EC\n",
    "# Define start time\n",
    "startTime = time.time()\n",
    "# DEFINE FUNCTIONS\n",
    "def convert(seconds): \n",
    "    seconds = seconds % (24 * 3600) \n",
    "    hour = seconds // 3600\n",
    "    seconds %= 3600\n",
    "    minutes = seconds // 60\n",
    "    seconds %= 60\n",
    "    return \"%dh %02dm %02ds\" % (hour, minutes, seconds)\n",
    "\n",
    "def convertTTS(seconds): \n",
    "    seconds = seconds % (24 * 3600) \n",
    "    hour = seconds // 3600\n",
    "    seconds %= 3600\n",
    "    minutes = seconds // 60\n",
    "    seconds %= 60\n",
    "    return \"%d hours %02d minutes %02d seconds\" % (hour, minutes, seconds)\n",
    "# Define a project name\n",
    "project = '大胸美女'\n",
    "# Define the URL to be opened\n",
    "url = 'https://www.deepl.com/translator'\n",
    "# Create a DataFrame of the sentences to be translated\n",
    "source = pd.read_excel('源头.xlsx', header = None)\n",
    "# Define the driver for Selenium to use\n",
    "driver = webdriver.Chrome('chromedriver.exe')\n",
    "# Open the specfied URL\n",
    "driver.get(url)\n",
    "# Open the \"Select Language\" dropdown menu\n",
    "buttonSource = driver.find_element_by_xpath('//*[@id=\"dl_translator\"]/div[3]/div[2]/div[1]/div[1]/div').click()\n",
    "# Click the Chinese button\n",
    "buttonChinese = driver.find_element_by_xpath('//*[@id=\"dl_translator\"]/div[3]/div[2]/div[1]/div[1]/div/div/button[12]').click()\n",
    "# Find the text field\n",
    "textFieldSource = driver.find_element_by_xpath('//*[@id=\"dl_translator\"]/div[3]/div[2]/div[1]/div[2]/div[1]/textarea')\n",
    "# Type the text into the text field\n",
    "test = source.loc[0:0].to_string(index = False, columns = None, header = False)\n",
    "textFieldSource.send_keys(source[0])\n",
    "# Pause to avoid errors\n",
    "time.sleep(5)\n",
    "# Store the translated text as a string\n",
    "translatedText = driver.find_element_by_xpath('//*[@id=\"target-dummydiv\"]')\n",
    "translatedText_content = translatedText.get_attribute('innerHTML').strip()\n",
    "# Sleep to avoid errors\n",
    "time.sleep(2)\n",
    "# Clean the output text and print\n",
    "textClean = translatedText_content.replace(\"&nbsp;\", \"\")\n",
    "# Sleep to avoid errors\n",
    "time.sleep(2)\n",
    "# Close the browser window\n",
    "driver.quit()\n",
    "# Turn the scraped string into a list\n",
    "sentences = textClean.split('.')\n",
    "sentencesClean = []\n",
    "for element in sentences:\n",
    "    sentencesClean.append(element + \".\")\n",
    "# Create a DataFrame\n",
    "cols = ['中文', 'English']\n",
    "df = pd.DataFrame(columns = cols)\n",
    "df['English'] = sentencesClean\n",
    "df['中文'] = source[0]\n",
    "# Drop nan rows\n",
    "df.dropna(inplace = True, axis = 0)\n",
    "# Export DataFrame as an XLSX to Google Drive\\Work\\Translation folder\n",
    "now = datetime.now().strftime(\"%Y-%m-%d_%H.%M.%S\")\n",
    "df.to_excel('中文\\{}.xlsx'.format(project), index=False)\n",
    "os.startfile('中文\\{}.xlsx'.format(project))\n",
    "# Play some audio to let alert the user to the scripts completion\n",
    "tts = gTTS(text = \"I have finished translating the sentences in {}. Please fix my mistakes, master.\".format(convertTTS(time.time() - startTime)), lang = \"en\")\n",
    "tts.save(\"tts.mp3\")\n",
    "playsound(\"tts.mp3\")\n",
    "os.remove(\"tts.mp3\")"
   ]
  },
  {
   "cell_type": "code",
   "execution_count": null,
   "metadata": {},
   "outputs": [],
   "source": []
  }
 ]
}